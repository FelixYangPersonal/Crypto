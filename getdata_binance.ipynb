{
 "nbformat": 4,
 "nbformat_minor": 0,
  "metadata": {
    "colab": {
      "name": "getdata_binance.ipynb",
      "provenance": [],
      "collapsed_sections": []
    },
    "kernelspec": {
      "name": "python3",
      "display_name": "Python 3"
    }
  },
  "cells": [
    {
      "cell_type": "code",
      "metadata": {
        "id": ""
      },
      "source": [
        "from urllib.request import Request, urlopen\r\n",
        "from datetime import datetime, timezone\r\n",
        "from dateutil import tz\r\n",
        "from IPython.display import HTML\r\n",
        "import time\r\n",
        "import json\r\n",
        "import math\r\n",
        "import pandas as pd\r\n",
        "import numpy as np\r\n",
        "import base64\r\n",
        "\r\n",
        "tz_convert = 'Asia/Taipei'\r\n",
        "zone = tz.gettz(tz_convert)\r\n",
        "startTime = int(time.mktime(datetime.strptime(datetime(填入年, 填入月, 填入日, 填入時, 填入分, tzinfo=zone).astimezone().isoformat(), '%Y-%m-%dT%H:%M:%S+00:00').timetuple()))\r\n",
        "endTime = int(time.mktime(datetime.strptime(datetime(填入年, 填入月, 填入日, 填入時, 填入分, tzinfo=zone).astimezone().isoformat(), '%Y-%m-%dT%H:%M:%S+00:00').timetuple()))\r\n",
        "\r\n",
        "diffTime = endTime - startTime\r\n",
        "loop_floor = math.floor(diffTime / 1000 / 60)\r\n",
        "loop_ceil = math.ceil(diffTime / 1000 / 60)\r\n",
        "\r\n",
        "symbol = '填入交易對名稱'\r\n",
        "k = 0\r\n",
        "data = []\r\n",
        "\r\n",
        "for i in range(loop_ceil):\r\n",
        "  if (i + 1) > loop_floor:\r\n",
        "    k = endTime - (startTime + ((i + 1) * 60 * 1000))\r\n",
        "  url = f'填入URL'\r\n",
        "  r = Request(url, headers={'User-Agent': 'Mozilla/5.0'})\r\n",
        "  data.append(json.loads(urlopen(r).read()))\r\n",
        "  time.sleep(1)\r\n",
        "\r\n",
        "a = np.concatenate(data)\r\n",
        "data = None\r\n",
        "df = pd.DataFrame(a)\r\n",
        "df[0] = pd.to_datetime((pd.to_numeric(df[0]).astype('Int64') / 1000), unit='s').dt.tz_localize('UTC').dt.tz_convert(tz_convert).dt.tz_localize(None)\r\n",
        "# print(df.iloc[:, [0, 4]])\r\n",
        "\r\n",
        "def download_csv(df, title='Download CSV file', filename='data.csv'):\r\n",
        "  csv = df.to_csv(index=False)\r\n",
        "  payload = base64.b64encode(csv.encode()).decode()\r\n",
        "  a = '<a download=\"{filename}\" href=\"data:text/csv;base64,{payload}\" target=\"_blank\">{title}</a>'\r\n",
        "  html = a.format(payload=payload,title=title,filename=filename)\r\n",
        "  return HTML(html)\r\n",
        "\r\n",
        "download_csv(df, title=f'Download {symbol} CSV file', filename=f'{symbol}.csv')"
      ],
      "execution_count": null,
      "outputs": []
    }
  ]
}
